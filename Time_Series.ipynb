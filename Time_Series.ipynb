{
  "cells": [
    {
      "cell_type": "markdown",
      "source": [
        "# Séries Temporais"
      ],
      "metadata": {
        "id": "BaVLyNcRD-iE"
      }
    },
    {
      "cell_type": "markdown",
      "source": [
        "O objetivo deste notebook é explorar características importantes de uma série temporal, usando dados de transporte de passageiros de aerolinhas EEUU."
      ],
      "metadata": {
        "id": "uIKD9P8vEGf0"
      }
    },
    {
      "cell_type": "markdown",
      "source": [
        "# Exploração de uma série temporal"
      ],
      "metadata": {
        "id": "_ESEC2GOzjf3"
      }
    },
    {
      "cell_type": "code",
      "execution_count": 1,
      "metadata": {
        "id": "u2zKIM_T47OF"
      },
      "outputs": [],
      "source": [
        "# Importando bibliotecas\n",
        "# ==============================================================================\n",
        "import pandas as pd\n",
        "import numpy as np\n",
        "import matplotlib.pylab as plt\n",
        "from datetime import datetime\n",
        "\n",
        "from pandas.plotting import  register_matplotlib_converters\n",
        "register_matplotlib_converters()\n",
        "\n"
      ]
    },
    {
      "cell_type": "code",
      "execution_count": 2,
      "metadata": {
        "id": "OTpYhvsz5ilv"
      },
      "outputs": [],
      "source": [
        "# Carregamento da base de dados\n",
        "# =============================================================================\n",
        "base = pd.read_csv(\"AirPassengers.csv\")"
      ]
    },
    {
      "cell_type": "code",
      "execution_count": 3,
      "metadata": {
        "colab": {
          "base_uri": "https://localhost:8080/",
          "height": 206
        },
        "id": "Kz9wNL455lvt",
        "outputId": "4c26c2eb-ebc9-4810-b814-961bdd4b8af1"
      },
      "outputs": [
        {
          "output_type": "execute_result",
          "data": {
            "text/plain": [
              "     Month  #Passengers\n",
              "0  1949-01          112\n",
              "1  1949-02          118\n",
              "2  1949-03          132\n",
              "3  1949-04          129\n",
              "4  1949-05          121"
            ],
            "text/html": [
              "\n",
              "\n",
              "  <div id=\"df-b0df17b9-c5c9-4349-b832-d7180ae4f9a1\">\n",
              "    <div class=\"colab-df-container\">\n",
              "      <div>\n",
              "<style scoped>\n",
              "    .dataframe tbody tr th:only-of-type {\n",
              "        vertical-align: middle;\n",
              "    }\n",
              "\n",
              "    .dataframe tbody tr th {\n",
              "        vertical-align: top;\n",
              "    }\n",
              "\n",
              "    .dataframe thead th {\n",
              "        text-align: right;\n",
              "    }\n",
              "</style>\n",
              "<table border=\"1\" class=\"dataframe\">\n",
              "  <thead>\n",
              "    <tr style=\"text-align: right;\">\n",
              "      <th></th>\n",
              "      <th>Month</th>\n",
              "      <th>#Passengers</th>\n",
              "    </tr>\n",
              "  </thead>\n",
              "  <tbody>\n",
              "    <tr>\n",
              "      <th>0</th>\n",
              "      <td>1949-01</td>\n",
              "      <td>112</td>\n",
              "    </tr>\n",
              "    <tr>\n",
              "      <th>1</th>\n",
              "      <td>1949-02</td>\n",
              "      <td>118</td>\n",
              "    </tr>\n",
              "    <tr>\n",
              "      <th>2</th>\n",
              "      <td>1949-03</td>\n",
              "      <td>132</td>\n",
              "    </tr>\n",
              "    <tr>\n",
              "      <th>3</th>\n",
              "      <td>1949-04</td>\n",
              "      <td>129</td>\n",
              "    </tr>\n",
              "    <tr>\n",
              "      <th>4</th>\n",
              "      <td>1949-05</td>\n",
              "      <td>121</td>\n",
              "    </tr>\n",
              "  </tbody>\n",
              "</table>\n",
              "</div>\n",
              "      <button class=\"colab-df-convert\" onclick=\"convertToInteractive('df-b0df17b9-c5c9-4349-b832-d7180ae4f9a1')\"\n",
              "              title=\"Convert this dataframe to an interactive table.\"\n",
              "              style=\"display:none;\">\n",
              "\n",
              "  <svg xmlns=\"http://www.w3.org/2000/svg\" height=\"24px\"viewBox=\"0 0 24 24\"\n",
              "       width=\"24px\">\n",
              "    <path d=\"M0 0h24v24H0V0z\" fill=\"none\"/>\n",
              "    <path d=\"M18.56 5.44l.94 2.06.94-2.06 2.06-.94-2.06-.94-.94-2.06-.94 2.06-2.06.94zm-11 1L8.5 8.5l.94-2.06 2.06-.94-2.06-.94L8.5 2.5l-.94 2.06-2.06.94zm10 10l.94 2.06.94-2.06 2.06-.94-2.06-.94-.94-2.06-.94 2.06-2.06.94z\"/><path d=\"M17.41 7.96l-1.37-1.37c-.4-.4-.92-.59-1.43-.59-.52 0-1.04.2-1.43.59L10.3 9.45l-7.72 7.72c-.78.78-.78 2.05 0 2.83L4 21.41c.39.39.9.59 1.41.59.51 0 1.02-.2 1.41-.59l7.78-7.78 2.81-2.81c.8-.78.8-2.07 0-2.86zM5.41 20L4 18.59l7.72-7.72 1.47 1.35L5.41 20z\"/>\n",
              "  </svg>\n",
              "      </button>\n",
              "\n",
              "\n",
              "\n",
              "    <div id=\"df-58bcb517-08e6-4710-8200-090c5ed613dc\">\n",
              "      <button class=\"colab-df-quickchart\" onclick=\"quickchart('df-58bcb517-08e6-4710-8200-090c5ed613dc')\"\n",
              "              title=\"Suggest charts.\"\n",
              "              style=\"display:none;\">\n",
              "\n",
              "<svg xmlns=\"http://www.w3.org/2000/svg\" height=\"24px\"viewBox=\"0 0 24 24\"\n",
              "     width=\"24px\">\n",
              "    <g>\n",
              "        <path d=\"M19 3H5c-1.1 0-2 .9-2 2v14c0 1.1.9 2 2 2h14c1.1 0 2-.9 2-2V5c0-1.1-.9-2-2-2zM9 17H7v-7h2v7zm4 0h-2V7h2v10zm4 0h-2v-4h2v4z\"/>\n",
              "    </g>\n",
              "</svg>\n",
              "      </button>\n",
              "    </div>\n",
              "\n",
              "<style>\n",
              "  .colab-df-quickchart {\n",
              "    background-color: #E8F0FE;\n",
              "    border: none;\n",
              "    border-radius: 50%;\n",
              "    cursor: pointer;\n",
              "    display: none;\n",
              "    fill: #1967D2;\n",
              "    height: 32px;\n",
              "    padding: 0 0 0 0;\n",
              "    width: 32px;\n",
              "  }\n",
              "\n",
              "  .colab-df-quickchart:hover {\n",
              "    background-color: #E2EBFA;\n",
              "    box-shadow: 0px 1px 2px rgba(60, 64, 67, 0.3), 0px 1px 3px 1px rgba(60, 64, 67, 0.15);\n",
              "    fill: #174EA6;\n",
              "  }\n",
              "\n",
              "  [theme=dark] .colab-df-quickchart {\n",
              "    background-color: #3B4455;\n",
              "    fill: #D2E3FC;\n",
              "  }\n",
              "\n",
              "  [theme=dark] .colab-df-quickchart:hover {\n",
              "    background-color: #434B5C;\n",
              "    box-shadow: 0px 1px 3px 1px rgba(0, 0, 0, 0.15);\n",
              "    filter: drop-shadow(0px 1px 2px rgba(0, 0, 0, 0.3));\n",
              "    fill: #FFFFFF;\n",
              "  }\n",
              "</style>\n",
              "\n",
              "    <script>\n",
              "      async function quickchart(key) {\n",
              "        const containerElement = document.querySelector('#' + key);\n",
              "        const charts = await google.colab.kernel.invokeFunction(\n",
              "            'suggestCharts', [key], {});\n",
              "      }\n",
              "    </script>\n",
              "\n",
              "      <script>\n",
              "\n",
              "function displayQuickchartButton(domScope) {\n",
              "  let quickchartButtonEl =\n",
              "    domScope.querySelector('#df-58bcb517-08e6-4710-8200-090c5ed613dc button.colab-df-quickchart');\n",
              "  quickchartButtonEl.style.display =\n",
              "    google.colab.kernel.accessAllowed ? 'block' : 'none';\n",
              "}\n",
              "\n",
              "        displayQuickchartButton(document);\n",
              "      </script>\n",
              "      <style>\n",
              "    .colab-df-container {\n",
              "      display:flex;\n",
              "      flex-wrap:wrap;\n",
              "      gap: 12px;\n",
              "    }\n",
              "\n",
              "    .colab-df-convert {\n",
              "      background-color: #E8F0FE;\n",
              "      border: none;\n",
              "      border-radius: 50%;\n",
              "      cursor: pointer;\n",
              "      display: none;\n",
              "      fill: #1967D2;\n",
              "      height: 32px;\n",
              "      padding: 0 0 0 0;\n",
              "      width: 32px;\n",
              "    }\n",
              "\n",
              "    .colab-df-convert:hover {\n",
              "      background-color: #E2EBFA;\n",
              "      box-shadow: 0px 1px 2px rgba(60, 64, 67, 0.3), 0px 1px 3px 1px rgba(60, 64, 67, 0.15);\n",
              "      fill: #174EA6;\n",
              "    }\n",
              "\n",
              "    [theme=dark] .colab-df-convert {\n",
              "      background-color: #3B4455;\n",
              "      fill: #D2E3FC;\n",
              "    }\n",
              "\n",
              "    [theme=dark] .colab-df-convert:hover {\n",
              "      background-color: #434B5C;\n",
              "      box-shadow: 0px 1px 3px 1px rgba(0, 0, 0, 0.15);\n",
              "      filter: drop-shadow(0px 1px 2px rgba(0, 0, 0, 0.3));\n",
              "      fill: #FFFFFF;\n",
              "    }\n",
              "  </style>\n",
              "\n",
              "      <script>\n",
              "        const buttonEl =\n",
              "          document.querySelector('#df-b0df17b9-c5c9-4349-b832-d7180ae4f9a1 button.colab-df-convert');\n",
              "        buttonEl.style.display =\n",
              "          google.colab.kernel.accessAllowed ? 'block' : 'none';\n",
              "\n",
              "        async function convertToInteractive(key) {\n",
              "          const element = document.querySelector('#df-b0df17b9-c5c9-4349-b832-d7180ae4f9a1');\n",
              "          const dataTable =\n",
              "            await google.colab.kernel.invokeFunction('convertToInteractive',\n",
              "                                                     [key], {});\n",
              "          if (!dataTable) return;\n",
              "\n",
              "          const docLinkHtml = 'Like what you see? Visit the ' +\n",
              "            '<a target=\"_blank\" href=https://colab.research.google.com/notebooks/data_table.ipynb>data table notebook</a>'\n",
              "            + ' to learn more about interactive tables.';\n",
              "          element.innerHTML = '';\n",
              "          dataTable['output_type'] = 'display_data';\n",
              "          await google.colab.output.renderOutput(dataTable, element);\n",
              "          const docLink = document.createElement('div');\n",
              "          docLink.innerHTML = docLinkHtml;\n",
              "          element.appendChild(docLink);\n",
              "        }\n",
              "      </script>\n",
              "    </div>\n",
              "  </div>\n"
            ]
          },
          "metadata": {},
          "execution_count": 3
        }
      ],
      "source": [
        "# Info dos dados\n",
        "# ==============================================================================\n",
        "base.head()"
      ]
    },
    {
      "cell_type": "code",
      "execution_count": 4,
      "metadata": {
        "colab": {
          "base_uri": "https://localhost:8080/"
        },
        "id": "XLloaQdA58Iz",
        "outputId": "47e43f93-7b56-4385-c708-610a73e11ca0"
      },
      "outputs": [
        {
          "output_type": "stream",
          "name": "stdout",
          "text": [
            "Month          object\n",
            "#Passengers     int64\n",
            "dtype: object\n"
          ]
        }
      ],
      "source": [
        "# Informação dos dados\n",
        "# ==============================================================================\n",
        "print(base.dtypes)"
      ]
    },
    {
      "cell_type": "code",
      "execution_count": 5,
      "metadata": {
        "colab": {
          "base_uri": "https://localhost:8080/",
          "height": 238
        },
        "id": "7gGsLI8z6B8v",
        "outputId": "03a2e03e-3908-4cc6-c4a7-a5ea15c169e4"
      },
      "outputs": [
        {
          "output_type": "execute_result",
          "data": {
            "text/plain": [
              "            #Passengers\n",
              "Month                  \n",
              "1949-01-01          112\n",
              "1949-02-01          118\n",
              "1949-03-01          132\n",
              "1949-04-01          129\n",
              "1949-05-01          121"
            ],
            "text/html": [
              "\n",
              "\n",
              "  <div id=\"df-aa20c45c-cd94-4099-b791-f86615b6a11d\">\n",
              "    <div class=\"colab-df-container\">\n",
              "      <div>\n",
              "<style scoped>\n",
              "    .dataframe tbody tr th:only-of-type {\n",
              "        vertical-align: middle;\n",
              "    }\n",
              "\n",
              "    .dataframe tbody tr th {\n",
              "        vertical-align: top;\n",
              "    }\n",
              "\n",
              "    .dataframe thead th {\n",
              "        text-align: right;\n",
              "    }\n",
              "</style>\n",
              "<table border=\"1\" class=\"dataframe\">\n",
              "  <thead>\n",
              "    <tr style=\"text-align: right;\">\n",
              "      <th></th>\n",
              "      <th>#Passengers</th>\n",
              "    </tr>\n",
              "    <tr>\n",
              "      <th>Month</th>\n",
              "      <th></th>\n",
              "    </tr>\n",
              "  </thead>\n",
              "  <tbody>\n",
              "    <tr>\n",
              "      <th>1949-01-01</th>\n",
              "      <td>112</td>\n",
              "    </tr>\n",
              "    <tr>\n",
              "      <th>1949-02-01</th>\n",
              "      <td>118</td>\n",
              "    </tr>\n",
              "    <tr>\n",
              "      <th>1949-03-01</th>\n",
              "      <td>132</td>\n",
              "    </tr>\n",
              "    <tr>\n",
              "      <th>1949-04-01</th>\n",
              "      <td>129</td>\n",
              "    </tr>\n",
              "    <tr>\n",
              "      <th>1949-05-01</th>\n",
              "      <td>121</td>\n",
              "    </tr>\n",
              "  </tbody>\n",
              "</table>\n",
              "</div>\n",
              "      <button class=\"colab-df-convert\" onclick=\"convertToInteractive('df-aa20c45c-cd94-4099-b791-f86615b6a11d')\"\n",
              "              title=\"Convert this dataframe to an interactive table.\"\n",
              "              style=\"display:none;\">\n",
              "\n",
              "  <svg xmlns=\"http://www.w3.org/2000/svg\" height=\"24px\"viewBox=\"0 0 24 24\"\n",
              "       width=\"24px\">\n",
              "    <path d=\"M0 0h24v24H0V0z\" fill=\"none\"/>\n",
              "    <path d=\"M18.56 5.44l.94 2.06.94-2.06 2.06-.94-2.06-.94-.94-2.06-.94 2.06-2.06.94zm-11 1L8.5 8.5l.94-2.06 2.06-.94-2.06-.94L8.5 2.5l-.94 2.06-2.06.94zm10 10l.94 2.06.94-2.06 2.06-.94-2.06-.94-.94-2.06-.94 2.06-2.06.94z\"/><path d=\"M17.41 7.96l-1.37-1.37c-.4-.4-.92-.59-1.43-.59-.52 0-1.04.2-1.43.59L10.3 9.45l-7.72 7.72c-.78.78-.78 2.05 0 2.83L4 21.41c.39.39.9.59 1.41.59.51 0 1.02-.2 1.41-.59l7.78-7.78 2.81-2.81c.8-.78.8-2.07 0-2.86zM5.41 20L4 18.59l7.72-7.72 1.47 1.35L5.41 20z\"/>\n",
              "  </svg>\n",
              "      </button>\n",
              "\n",
              "\n",
              "\n",
              "    <div id=\"df-c7fcd632-1328-44bf-92ae-e40f88568b36\">\n",
              "      <button class=\"colab-df-quickchart\" onclick=\"quickchart('df-c7fcd632-1328-44bf-92ae-e40f88568b36')\"\n",
              "              title=\"Suggest charts.\"\n",
              "              style=\"display:none;\">\n",
              "\n",
              "<svg xmlns=\"http://www.w3.org/2000/svg\" height=\"24px\"viewBox=\"0 0 24 24\"\n",
              "     width=\"24px\">\n",
              "    <g>\n",
              "        <path d=\"M19 3H5c-1.1 0-2 .9-2 2v14c0 1.1.9 2 2 2h14c1.1 0 2-.9 2-2V5c0-1.1-.9-2-2-2zM9 17H7v-7h2v7zm4 0h-2V7h2v10zm4 0h-2v-4h2v4z\"/>\n",
              "    </g>\n",
              "</svg>\n",
              "      </button>\n",
              "    </div>\n",
              "\n",
              "<style>\n",
              "  .colab-df-quickchart {\n",
              "    background-color: #E8F0FE;\n",
              "    border: none;\n",
              "    border-radius: 50%;\n",
              "    cursor: pointer;\n",
              "    display: none;\n",
              "    fill: #1967D2;\n",
              "    height: 32px;\n",
              "    padding: 0 0 0 0;\n",
              "    width: 32px;\n",
              "  }\n",
              "\n",
              "  .colab-df-quickchart:hover {\n",
              "    background-color: #E2EBFA;\n",
              "    box-shadow: 0px 1px 2px rgba(60, 64, 67, 0.3), 0px 1px 3px 1px rgba(60, 64, 67, 0.15);\n",
              "    fill: #174EA6;\n",
              "  }\n",
              "\n",
              "  [theme=dark] .colab-df-quickchart {\n",
              "    background-color: #3B4455;\n",
              "    fill: #D2E3FC;\n",
              "  }\n",
              "\n",
              "  [theme=dark] .colab-df-quickchart:hover {\n",
              "    background-color: #434B5C;\n",
              "    box-shadow: 0px 1px 3px 1px rgba(0, 0, 0, 0.15);\n",
              "    filter: drop-shadow(0px 1px 2px rgba(0, 0, 0, 0.3));\n",
              "    fill: #FFFFFF;\n",
              "  }\n",
              "</style>\n",
              "\n",
              "    <script>\n",
              "      async function quickchart(key) {\n",
              "        const containerElement = document.querySelector('#' + key);\n",
              "        const charts = await google.colab.kernel.invokeFunction(\n",
              "            'suggestCharts', [key], {});\n",
              "      }\n",
              "    </script>\n",
              "\n",
              "      <script>\n",
              "\n",
              "function displayQuickchartButton(domScope) {\n",
              "  let quickchartButtonEl =\n",
              "    domScope.querySelector('#df-c7fcd632-1328-44bf-92ae-e40f88568b36 button.colab-df-quickchart');\n",
              "  quickchartButtonEl.style.display =\n",
              "    google.colab.kernel.accessAllowed ? 'block' : 'none';\n",
              "}\n",
              "\n",
              "        displayQuickchartButton(document);\n",
              "      </script>\n",
              "      <style>\n",
              "    .colab-df-container {\n",
              "      display:flex;\n",
              "      flex-wrap:wrap;\n",
              "      gap: 12px;\n",
              "    }\n",
              "\n",
              "    .colab-df-convert {\n",
              "      background-color: #E8F0FE;\n",
              "      border: none;\n",
              "      border-radius: 50%;\n",
              "      cursor: pointer;\n",
              "      display: none;\n",
              "      fill: #1967D2;\n",
              "      height: 32px;\n",
              "      padding: 0 0 0 0;\n",
              "      width: 32px;\n",
              "    }\n",
              "\n",
              "    .colab-df-convert:hover {\n",
              "      background-color: #E2EBFA;\n",
              "      box-shadow: 0px 1px 2px rgba(60, 64, 67, 0.3), 0px 1px 3px 1px rgba(60, 64, 67, 0.15);\n",
              "      fill: #174EA6;\n",
              "    }\n",
              "\n",
              "    [theme=dark] .colab-df-convert {\n",
              "      background-color: #3B4455;\n",
              "      fill: #D2E3FC;\n",
              "    }\n",
              "\n",
              "    [theme=dark] .colab-df-convert:hover {\n",
              "      background-color: #434B5C;\n",
              "      box-shadow: 0px 1px 3px 1px rgba(0, 0, 0, 0.15);\n",
              "      filter: drop-shadow(0px 1px 2px rgba(0, 0, 0, 0.3));\n",
              "      fill: #FFFFFF;\n",
              "    }\n",
              "  </style>\n",
              "\n",
              "      <script>\n",
              "        const buttonEl =\n",
              "          document.querySelector('#df-aa20c45c-cd94-4099-b791-f86615b6a11d button.colab-df-convert');\n",
              "        buttonEl.style.display =\n",
              "          google.colab.kernel.accessAllowed ? 'block' : 'none';\n",
              "\n",
              "        async function convertToInteractive(key) {\n",
              "          const element = document.querySelector('#df-aa20c45c-cd94-4099-b791-f86615b6a11d');\n",
              "          const dataTable =\n",
              "            await google.colab.kernel.invokeFunction('convertToInteractive',\n",
              "                                                     [key], {});\n",
              "          if (!dataTable) return;\n",
              "\n",
              "          const docLinkHtml = 'Like what you see? Visit the ' +\n",
              "            '<a target=\"_blank\" href=https://colab.research.google.com/notebooks/data_table.ipynb>data table notebook</a>'\n",
              "            + ' to learn more about interactive tables.';\n",
              "          element.innerHTML = '';\n",
              "          dataTable['output_type'] = 'display_data';\n",
              "          await google.colab.output.renderOutput(dataTable, element);\n",
              "          const docLink = document.createElement('div');\n",
              "          docLink.innerHTML = docLinkHtml;\n",
              "          element.appendChild(docLink);\n",
              "        }\n",
              "      </script>\n",
              "    </div>\n",
              "  </div>\n"
            ]
          },
          "metadata": {},
          "execution_count": 5
        }
      ],
      "source": [
        "# Conversao dos atributos que estão no formato string para o formato data : ANO-MÊS\n",
        "#===============================================================================\n",
        "dateparse = lambda dates: datetime.strptime(dates, \"%Y-%m\")\n",
        "base = pd.read_csv(\"AirPassengers.csv\", parse_dates= [\"Month\"],\n",
        "               index_col= \"Month\", date_parser = dateparse)\n",
        "base.head(5)"
      ]
    },
    {
      "cell_type": "code",
      "execution_count": 6,
      "metadata": {
        "colab": {
          "base_uri": "https://localhost:8080/"
        },
        "id": "y5asoYuR6w7w",
        "outputId": "e4186e9d-4998-4643-d32c-8e9693f430bb"
      },
      "outputs": [
        {
          "output_type": "execute_result",
          "data": {
            "text/plain": [
              "DatetimeIndex(['1949-01-01', '1949-02-01', '1949-03-01', '1949-04-01',\n",
              "               '1949-05-01', '1949-06-01', '1949-07-01', '1949-08-01',\n",
              "               '1949-09-01', '1949-10-01',\n",
              "               ...\n",
              "               '1960-03-01', '1960-04-01', '1960-05-01', '1960-06-01',\n",
              "               '1960-07-01', '1960-08-01', '1960-09-01', '1960-10-01',\n",
              "               '1960-11-01', '1960-12-01'],\n",
              "              dtype='datetime64[ns]', name='Month', length=144, freq=None)"
            ]
          },
          "metadata": {},
          "execution_count": 6
        }
      ],
      "source": [
        "# Visualização do índice do dataframe\n",
        "# ==============================================================================\n",
        "base.index"
      ]
    },
    {
      "cell_type": "code",
      "execution_count": 7,
      "metadata": {
        "colab": {
          "base_uri": "https://localhost:8080/"
        },
        "id": "2wLFjCTZ7E-z",
        "outputId": "410c7ddf-7b9a-4776-bf87-59a923516bb4"
      },
      "outputs": [
        {
          "output_type": "execute_result",
          "data": {
            "text/plain": [
              "Month\n",
              "1949-01-01    112\n",
              "1949-02-01    118\n",
              "1949-03-01    132\n",
              "1949-04-01    129\n",
              "1949-05-01    121\n",
              "             ... \n",
              "1960-08-01    606\n",
              "1960-09-01    508\n",
              "1960-10-01    461\n",
              "1960-11-01    390\n",
              "1960-12-01    432\n",
              "Name: #Passengers, Length: 144, dtype: int64"
            ]
          },
          "metadata": {},
          "execution_count": 7
        }
      ],
      "source": [
        "# Criando uma variável chamada de ts\n",
        "# ==============================================================================\n",
        "ts = base[\"#Passengers\"]\n",
        "ts"
      ]
    },
    {
      "cell_type": "code",
      "execution_count": 8,
      "metadata": {
        "colab": {
          "base_uri": "https://localhost:8080/"
        },
        "id": "IcROpMZ-7SOs",
        "outputId": "f93eeef4-6612-4f39-e671-05696ee3c6b2"
      },
      "outputs": [
        {
          "output_type": "execute_result",
          "data": {
            "text/plain": [
              "118"
            ]
          },
          "metadata": {},
          "execution_count": 8
        }
      ],
      "source": [
        "# Visualização de registro específico\n",
        "# ==============================================================================\n",
        "ts[1]"
      ]
    },
    {
      "cell_type": "code",
      "execution_count": 9,
      "metadata": {
        "colab": {
          "base_uri": "https://localhost:8080/"
        },
        "id": "DeEjiDTJ7VmI",
        "outputId": "94977f9e-7bf2-4b5b-f999-7126ec561416"
      },
      "outputs": [
        {
          "output_type": "execute_result",
          "data": {
            "text/plain": [
              "Month\n",
              "1949-02-01    118\n",
              "Name: #Passengers, dtype: int64"
            ]
          },
          "metadata": {},
          "execution_count": 9
        }
      ],
      "source": [
        "#visualização por ano e mês\n",
        "# ==============================================================================\n",
        "ts[\"1949-02\"]"
      ]
    },
    {
      "cell_type": "code",
      "execution_count": 10,
      "metadata": {
        "colab": {
          "base_uri": "https://localhost:8080/"
        },
        "id": "hkvxjwwA7c-f",
        "outputId": "27512866-579a-4b1f-bc42-eb66ee501bcb"
      },
      "outputs": [
        {
          "output_type": "execute_result",
          "data": {
            "text/plain": [
              "118"
            ]
          },
          "metadata": {},
          "execution_count": 10
        }
      ],
      "source": [
        "# Visualização com uma data específica\n",
        "# ==============================================================================\n",
        "ts[datetime(1949,2,1)]"
      ]
    },
    {
      "cell_type": "code",
      "execution_count": 11,
      "metadata": {
        "colab": {
          "base_uri": "https://localhost:8080/"
        },
        "id": "pWfOBZ5N7pGf",
        "outputId": "4e7a1797-dfe5-42ac-cb2e-66671ac51732"
      },
      "outputs": [
        {
          "output_type": "execute_result",
          "data": {
            "text/plain": [
              "Month\n",
              "1950-01-01    115\n",
              "1950-02-01    126\n",
              "1950-03-01    141\n",
              "1950-04-01    135\n",
              "1950-05-01    125\n",
              "1950-06-01    149\n",
              "1950-07-01    170\n",
              "1950-08-01    170\n",
              "Name: #Passengers, dtype: int64"
            ]
          },
          "metadata": {},
          "execution_count": 11
        }
      ],
      "source": [
        "# Visualização  intervalos\n",
        "# ==============================================================================\n",
        "ts[\"1950-01-01\": \"1950-08-31\"]"
      ]
    },
    {
      "cell_type": "code",
      "source": [
        "# Visualização de invervalos sem preencher a data de início\n",
        "# ==============================================================================\n",
        "ts[:'1950-07-31']"
      ],
      "metadata": {
        "colab": {
          "base_uri": "https://localhost:8080/"
        },
        "id": "-EMqjqxQxLzS",
        "outputId": "edef7817-586e-4a8f-b160-98476fd3f0bb"
      },
      "execution_count": 12,
      "outputs": [
        {
          "output_type": "execute_result",
          "data": {
            "text/plain": [
              "Month\n",
              "1949-01-01    112\n",
              "1949-02-01    118\n",
              "1949-03-01    132\n",
              "1949-04-01    129\n",
              "1949-05-01    121\n",
              "1949-06-01    135\n",
              "1949-07-01    148\n",
              "1949-08-01    148\n",
              "1949-09-01    136\n",
              "1949-10-01    119\n",
              "1949-11-01    104\n",
              "1949-12-01    118\n",
              "1950-01-01    115\n",
              "1950-02-01    126\n",
              "1950-03-01    141\n",
              "1950-04-01    135\n",
              "1950-05-01    125\n",
              "1950-06-01    149\n",
              "1950-07-01    170\n",
              "Name: #Passengers, dtype: int64"
            ]
          },
          "metadata": {},
          "execution_count": 12
        }
      ]
    },
    {
      "cell_type": "code",
      "source": [
        "# Visualização por ano\n",
        "# ==============================================================================\n",
        "ts['1950']"
      ],
      "metadata": {
        "colab": {
          "base_uri": "https://localhost:8080/"
        },
        "id": "AmCt9ZjexgY1",
        "outputId": "34b816b6-f071-4860-8a1d-5d772ea88bf9"
      },
      "execution_count": 13,
      "outputs": [
        {
          "output_type": "execute_result",
          "data": {
            "text/plain": [
              "Month\n",
              "1950-01-01    115\n",
              "1950-02-01    126\n",
              "1950-03-01    141\n",
              "1950-04-01    135\n",
              "1950-05-01    125\n",
              "1950-06-01    149\n",
              "1950-07-01    170\n",
              "1950-08-01    170\n",
              "1950-09-01    158\n",
              "1950-10-01    133\n",
              "1950-11-01    114\n",
              "1950-12-01    140\n",
              "Name: #Passengers, dtype: int64"
            ]
          },
          "metadata": {},
          "execution_count": 13
        }
      ]
    },
    {
      "cell_type": "code",
      "execution_count": 14,
      "metadata": {
        "colab": {
          "base_uri": "https://localhost:8080/"
        },
        "id": "kieibhW972HG",
        "outputId": "2a7ddb09-f0c7-4cd8-865b-4386449b79bf"
      },
      "outputs": [
        {
          "output_type": "execute_result",
          "data": {
            "text/plain": [
              "Timestamp('1960-12-01 00:00:00')"
            ]
          },
          "metadata": {},
          "execution_count": 14
        }
      ],
      "source": [
        "# Valores máximos\n",
        "# ==============================================================================\n",
        "ts.index.max()"
      ]
    },
    {
      "cell_type": "code",
      "execution_count": 15,
      "metadata": {
        "colab": {
          "base_uri": "https://localhost:8080/"
        },
        "id": "Pj3jmjey77MR",
        "outputId": "0b6315a7-03aa-421a-e9d4-bacc76b9e7d4"
      },
      "outputs": [
        {
          "output_type": "execute_result",
          "data": {
            "text/plain": [
              "Timestamp('1949-01-01 00:00:00')"
            ]
          },
          "metadata": {},
          "execution_count": 15
        }
      ],
      "source": [
        "# Valores mínimos\n",
        "# ==============================================================================\n",
        "ts.index.min()"
      ]
    },
    {
      "cell_type": "code",
      "execution_count": 16,
      "metadata": {
        "colab": {
          "base_uri": "https://localhost:8080/",
          "height": 447
        },
        "id": "toBoB73-8Aze",
        "outputId": "8b06a7e5-42f7-4392-f5a7-61c7cf0653af"
      },
      "outputs": [
        {
          "output_type": "execute_result",
          "data": {
            "text/plain": [
              "[<matplotlib.lines.Line2D at 0x7d4963fc5b10>]"
            ]
          },
          "metadata": {},
          "execution_count": 16
        },
        {
          "output_type": "display_data",
          "data": {
            "text/plain": [
              "<Figure size 640x480 with 1 Axes>"
            ],
            "image/png": "[encoded data removed]"
          },
          "metadata": {}
        }
      ],
      "source": [
        "# Visualização da série temporal\n",
        "# ==============================================================================\n",
        "plt.plot(ts)"
      ]
    },
    {
      "cell_type": "code",
      "execution_count": 17,
      "metadata": {
        "colab": {
          "base_uri": "https://localhost:8080/",
          "height": 447
        },
        "id": "okJSkIVD8D3V",
        "outputId": "276b5445-7e62-44fd-ed69-46f1c6b989ff"
      },
      "outputs": [
        {
          "output_type": "execute_result",
          "data": {
            "text/plain": [
              "[<matplotlib.lines.Line2D at 0x7d4961d39510>]"
            ]
          },
          "metadata": {},
          "execution_count": 17
        },
        {
          "output_type": "display_data",
          "data": {
            "text/plain": [
              "<Figure size 640x480 with 1 Axes>"
            ],
            "image/png": "[encoded data removed]"
          },
          "metadata": {}
        }
      ],
      "source": [
        "# Visualização por ano\n",
        "# ==============================================================================\n",
        "ts_ano= ts.resample(\"A\").sum()\n",
        "plt.plot(ts_ano)"
      ]
    },
    {
      "cell_type": "code",
      "execution_count": 18,
      "metadata": {
        "colab": {
          "base_uri": "https://localhost:8080/",
          "height": 447
        },
        "id": "JMU6aQFC8Wd3",
        "outputId": "fa63574e-fa91-42c7-cacf-645639678e02"
      },
      "outputs": [
        {
          "output_type": "execute_result",
          "data": {
            "text/plain": [
              "[<matplotlib.lines.Line2D at 0x7d4961dd6bf0>]"
            ]
          },
          "metadata": {},
          "execution_count": 18
        },
        {
          "output_type": "display_data",
          "data": {
            "text/plain": [
              "<Figure size 640x480 with 1 Axes>"
            ],
            "image/png": "[encoded data removed]"
          },
          "metadata": {}
        }
      ],
      "source": [
        "# Vizualização por mês\n",
        "# ==============================================================================\n",
        "ts_mes = ts.groupby([lambda x: x.month]).sum()\n",
        "plt.plot(ts_mes)"
      ]
    },
    {
      "cell_type": "code",
      "execution_count": 19,
      "metadata": {
        "colab": {
          "base_uri": "https://localhost:8080/",
          "height": 447
        },
        "id": "bW9dvEVn88n4",
        "outputId": "58fc055e-db77-4eb3-e97e-91127d9bb895"
      },
      "outputs": [
        {
          "output_type": "execute_result",
          "data": {
            "text/plain": [
              "[<matplotlib.lines.Line2D at 0x7d4961c54d00>]"
            ]
          },
          "metadata": {},
          "execution_count": 19
        },
        {
          "output_type": "display_data",
          "data": {
            "text/plain": [
              "<Figure size 640x480 with 1 Axes>"
            ],
            "image/png": "[encoded data removed]"
          },
          "metadata": {}
        }
      ],
      "source": [
        "# Visualização entre datas específicas\n",
        "# ==============================================================================\n",
        "ts_datas = ts[\"1960-01-01\" : \"1960-12-01\"]\n",
        "ts_datas\n",
        "plt.plot(ts_datas)"
      ]
    },
    {
      "cell_type": "markdown",
      "metadata": {
        "id": "9U1XeWPArvrB"
      },
      "source": [
        "# Decomposição"
      ]
    },
    {
      "cell_type": "markdown",
      "source": [
        " Quando uma série temporal apresenta elementos como tendência, sazonalidade e ruido, a série temporal pode se decompor em esses 3 elementos.\n",
        "\\begin{equation}\n",
        "\\text{Dados original : Transporte de passajeros}\n",
        "\\left\\{\\begin{matrix}\n",
        "\\text{Tendência} \\\\\n",
        "\\text{Sazonalidade}\\\\\n",
        "\\text{Ruido}\n",
        "\\end{matrix}\\right.\n",
        "\\end{equation}"
      ],
      "metadata": {
        "id": "wtaL_HVP0_85"
      }
    },
    {
      "cell_type": "code",
      "execution_count": 20,
      "metadata": {
        "id": "O09X3uX1rxNx"
      },
      "outputs": [],
      "source": [
        "# Importando bibliotecas\n",
        "# ==============================================================================\n",
        "from statsmodels.tsa.seasonal import seasonal_decompose"
      ]
    },
    {
      "cell_type": "code",
      "execution_count": 21,
      "metadata": {
        "id": "54ZcBfQvr0gx"
      },
      "outputs": [],
      "source": [
        "# Decomposição da série temporal, criando uma variável para cada formato\n",
        "# ==============================================================================\n",
        "decompose = seasonal_decompose(ts)\n"
      ]
    },
    {
      "cell_type": "code",
      "execution_count": 22,
      "metadata": {
        "colab": {
          "base_uri": "https://localhost:8080/"
        },
        "id": "FR_zXQnwsNza",
        "outputId": "077d1124-43df-43d4-cbdc-8d056d5ac59a"
      },
      "outputs": [
        {
          "output_type": "execute_result",
          "data": {
            "text/plain": [
              "Month\n",
              "1949-01-01   NaN\n",
              "1949-02-01   NaN\n",
              "1949-03-01   NaN\n",
              "1949-04-01   NaN\n",
              "1949-05-01   NaN\n",
              "              ..\n",
              "1960-08-01   NaN\n",
              "1960-09-01   NaN\n",
              "1960-10-01   NaN\n",
              "1960-11-01   NaN\n",
              "1960-12-01   NaN\n",
              "Name: trend, Length: 144, dtype: float64"
            ]
          },
          "metadata": {},
          "execution_count": 22
        }
      ],
      "source": [
        "# Tendência\n",
        "# ==============================================================================\n",
        "tendencia = decompose.trend\n",
        "tendencia"
      ]
    },
    {
      "cell_type": "code",
      "execution_count": 23,
      "metadata": {
        "colab": {
          "base_uri": "https://localhost:8080/"
        },
        "id": "coRGa8BQsQCy",
        "outputId": "f24266c5-5f6e-4947-f3e7-b8cce3852452"
      },
      "outputs": [
        {
          "output_type": "execute_result",
          "data": {
            "text/plain": [
              "Month\n",
              "1949-01-01   -24.748737\n",
              "1949-02-01   -36.188131\n",
              "1949-03-01    -2.241162\n",
              "1949-04-01    -8.036616\n",
              "1949-05-01    -4.506313\n",
              "                ...    \n",
              "1960-08-01    62.823232\n",
              "1960-09-01    16.520202\n",
              "1960-10-01   -20.642677\n",
              "1960-11-01   -53.593434\n",
              "1960-12-01   -28.619949\n",
              "Name: seasonal, Length: 144, dtype: float64"
            ]
          },
          "metadata": {},
          "execution_count": 23
        }
      ],
      "source": [
        "# Sazonalidade\n",
        "# ==============================================================================\n",
        "sazonal = decompose.seasonal\n",
        "sazonal"
      ]
    },
    {
      "cell_type": "code",
      "execution_count": 24,
      "metadata": {
        "colab": {
          "base_uri": "https://localhost:8080/"
        },
        "id": "nwDzdJrAsSLZ",
        "outputId": "e3027d42-4fde-49ea-aea8-857d151d1015"
      },
      "outputs": [
        {
          "output_type": "execute_result",
          "data": {
            "text/plain": [
              "Month\n",
              "1949-01-01   NaN\n",
              "1949-02-01   NaN\n",
              "1949-03-01   NaN\n",
              "1949-04-01   NaN\n",
              "1949-05-01   NaN\n",
              "              ..\n",
              "1960-08-01   NaN\n",
              "1960-09-01   NaN\n",
              "1960-10-01   NaN\n",
              "1960-11-01   NaN\n",
              "1960-12-01   NaN\n",
              "Name: resid, Length: 144, dtype: float64"
            ]
          },
          "metadata": {},
          "execution_count": 24
        }
      ],
      "source": [
        "# Ruido\n",
        "# ==============================================================================\n",
        "aleatorio = decompose.resid\n",
        "aleatorio"
      ]
    },
    {
      "cell_type": "code",
      "execution_count": 25,
      "metadata": {
        "colab": {
          "base_uri": "https://localhost:8080/",
          "height": 487
        },
        "id": "UXT60dnbsYPx",
        "outputId": "1114f97a-d341-4fef-da9b-f2debecff7fe"
      },
      "outputs": [
        {
          "output_type": "display_data",
          "data": {
            "text/plain": [
              "<Figure size 640x480 with 4 Axes>"
            ],
            "image/png": "[encoded data removed]"
          },
          "metadata": {}
        }
      ],
      "source": [
        "# Visualização do gráfico original e a decomposição\n",
        "# ==============================================================================\n",
        "plt.subplot(4,1,1)\n",
        "plt.plot(ts, label = 'Original')\n",
        "plt.legend(loc = 'best')\n",
        "\n",
        "# Visualização somente da tendência\n",
        "# ==============================================================================\n",
        "plt.subplot(4,1,2)\n",
        "plt.plot(tendencia, label = 'Tendência', color = 'black')\n",
        "plt.legend(loc = 'best')\n",
        "\n",
        "\n",
        "# Visualização somente da sazonalidade\n",
        "# ==============================================================================\n",
        "plt.subplot(4,1,3)\n",
        "plt.plot(sazonal, label = 'Sazonalidade', color = 'mediumslateblue')\n",
        "plt.legend(loc = 'best')\n",
        "\n",
        "# Visualização somente do elemento aleatório\n",
        "# ==============================================================================\n",
        "plt.subplot(4,1,4)\n",
        "plt.plot(aleatorio, label = 'Ruido', color ='red')\n",
        "plt.legend(loc = 'best')\n",
        "plt.tight_layout()"
      ]
    },
    {
      "cell_type": "markdown",
      "source": [
        "**Reporte**\n",
        "\n",
        "*  Podemos visualizar do gráfico anterior que os elementos de tendencia, sazonalidade e ruido ficam mais claro  depois de fazer a decomposicao.\n",
        "* Do gráfico de sazonalidade claramente podemos visualizar uma regularidade uniforme.\n",
        "* Do gráfico de tendencia podemos visualizar uma linha reta bem definida.\n",
        "* O último gráfico é o gráfico de ruido"
      ],
      "metadata": {
        "id": "YJlhzk2j2VF1"
      }
    },
    {
      "cell_type": "markdown",
      "metadata": {
        "id": "iMjz8sz7q946"
      },
      "source": [
        "# Previsoes com Arima"
      ]
    },
    {
      "cell_type": "markdown",
      "source": [
        "## Encontrando os melhores parametros"
      ],
      "metadata": {
        "id": "6tfROkQnEeYX"
      }
    },
    {
      "cell_type": "code",
      "execution_count": 29,
      "metadata": {
        "colab": {
          "base_uri": "https://localhost:8080/"
        },
        "id": "Zqj33WfiuGrR",
        "outputId": "5db6ae7b-6215-40a4-eae8-82514a974177"
      },
      "outputs": [
        {
          "output_type": "stream",
          "name": "stdout",
          "text": [
            "Requirement already satisfied: pmdarima in /usr/local/lib/python3.10/dist-packages (2.0.3)\n",
            "Requirement already satisfied: joblib>=0.11 in /usr/local/lib/python3.10/dist-packages (from pmdarima) (1.3.1)\n",
            "Requirement already satisfied: Cython!=0.29.18,!=0.29.31,>=0.29 in /usr/local/lib/python3.10/dist-packages (from pmdarima) (0.29.36)\n",
            "Requirement already satisfied: numpy>=1.21.2 in /usr/local/lib/python3.10/dist-packages (from pmdarima) (1.22.4)\n",
            "Requirement already satisfied: pandas>=0.19 in /usr/local/lib/python3.10/dist-packages (from pmdarima) (1.5.3)\n",
            "Requirement already satisfied: scikit-learn>=0.22 in /usr/local/lib/python3.10/dist-packages (from pmdarima) (1.2.2)\n",
            "Requirement already satisfied: scipy>=1.3.2 in /usr/local/lib/python3.10/dist-packages (from pmdarima) (1.10.1)\n",
            "Requirement already satisfied: statsmodels>=0.13.2 in /usr/local/lib/python3.10/dist-packages (from pmdarima) (0.13.5)\n",
            "Requirement already satisfied: urllib3 in /usr/local/lib/python3.10/dist-packages (from pmdarima) (1.26.16)\n",
            "Requirement already satisfied: setuptools!=50.0.0,>=38.6.0 in /usr/local/lib/python3.10/dist-packages (from pmdarima) (67.7.2)\n",
            "Requirement already satisfied: python-dateutil>=2.8.1 in /usr/local/lib/python3.10/dist-packages (from pandas>=0.19->pmdarima) (2.8.2)\n",
            "Requirement already satisfied: pytz>=2020.1 in /usr/local/lib/python3.10/dist-packages (from pandas>=0.19->pmdarima) (2022.7.1)\n",
            "Requirement already satisfied: threadpoolctl>=2.0.0 in /usr/local/lib/python3.10/dist-packages (from scikit-learn>=0.22->pmdarima) (3.2.0)\n",
            "Requirement already satisfied: patsy>=0.5.2 in /usr/local/lib/python3.10/dist-packages (from statsmodels>=0.13.2->pmdarima) (0.5.3)\n",
            "Requirement already satisfied: packaging>=21.3 in /usr/local/lib/python3.10/dist-packages (from statsmodels>=0.13.2->pmdarima) (23.1)\n",
            "Requirement already satisfied: six in /usr/local/lib/python3.10/dist-packages (from patsy>=0.5.2->statsmodels>=0.13.2->pmdarima) (1.16.0)\n"
          ]
        }
      ],
      "source": [
        "# Instalando pmdarima\n",
        "# ==============================================================================\n",
        "!pip install pmdarima"
      ]
    },
    {
      "cell_type": "code",
      "execution_count": 30,
      "metadata": {
        "id": "xh7NrGrGrEvB"
      },
      "outputs": [],
      "source": [
        "# Importando bliblioteca\n",
        "# ==============================================================================\n",
        "from pmdarima.arima import auto_arima\n"
      ]
    },
    {
      "cell_type": "code",
      "execution_count": 31,
      "metadata": {
        "colab": {
          "base_uri": "https://localhost:8080/",
          "height": 0
        },
        "id": "weFC6fJpsncJ",
        "outputId": "61681f4e-dd54-4fab-bf07-acef7d9d183a"
      },
      "outputs": [
        {
          "output_type": "stream",
          "name": "stdout",
          "text": [
            " ARIMA(0,1,0)(0,1,0)[12]             : AIC=1031.508, Time=0.09 sec\n",
            " ARIMA(0,1,0)(0,1,1)[12]             : AIC=1030.752, Time=0.15 sec\n",
            " ARIMA(0,1,0)(0,1,2)[12]             : AIC=1032.276, Time=0.62 sec\n",
            " ARIMA(0,1,0)(1,1,0)[12]             : AIC=1030.408, Time=0.15 sec\n",
            " ARIMA(0,1,0)(1,1,1)[12]             : AIC=1032.128, Time=0.30 sec\n",
            " ARIMA(0,1,0)(1,1,2)[12]             : AIC=1034.096, Time=0.96 sec\n",
            " ARIMA(0,1,0)(2,1,0)[12]             : AIC=1032.120, Time=0.37 sec\n",
            " ARIMA(0,1,0)(2,1,1)[12]             : AIC=inf, Time=5.56 sec\n",
            " ARIMA(0,1,0)(2,1,2)[12]             : AIC=inf, Time=5.76 sec\n",
            " ARIMA(0,1,1)(0,1,0)[12]             : AIC=1020.639, Time=0.14 sec\n",
            " ARIMA(0,1,1)(0,1,1)[12]             : AIC=1021.003, Time=0.47 sec\n",
            " ARIMA(0,1,1)(0,1,2)[12]             : AIC=1019.494, Time=1.54 sec\n",
            " ARIMA(0,1,1)(1,1,0)[12]             : AIC=1020.425, Time=0.77 sec\n",
            " ARIMA(0,1,1)(1,1,1)[12]             : AIC=1020.327, Time=2.03 sec\n",
            " ARIMA(0,1,1)(1,1,2)[12]             : AIC=1012.991, Time=4.61 sec\n",
            " ARIMA(0,1,1)(2,1,0)[12]             : AIC=1019.178, Time=0.90 sec\n",
            " ARIMA(0,1,1)(2,1,1)[12]             : AIC=inf, Time=4.36 sec\n",
            " ARIMA(0,1,1)(2,1,2)[12]             : AIC=inf, Time=4.90 sec\n",
            " ARIMA(0,1,2)(0,1,0)[12]             : AIC=1022.627, Time=0.09 sec\n",
            " ARIMA(0,1,2)(0,1,1)[12]             : AIC=1023.001, Time=0.25 sec\n",
            " ARIMA(0,1,2)(0,1,2)[12]             : AIC=1021.453, Time=0.69 sec\n",
            " ARIMA(0,1,2)(1,1,0)[12]             : AIC=1022.424, Time=0.20 sec\n",
            " ARIMA(0,1,2)(1,1,1)[12]             : AIC=1022.325, Time=0.70 sec\n",
            " ARIMA(0,1,2)(1,1,2)[12]             : AIC=1014.990, Time=2.14 sec\n",
            " ARIMA(0,1,2)(2,1,0)[12]             : AIC=1021.148, Time=0.43 sec\n",
            " ARIMA(0,1,2)(2,1,1)[12]             : AIC=inf, Time=4.08 sec\n",
            " ARIMA(0,1,3)(0,1,0)[12]             : AIC=1020.204, Time=0.25 sec\n",
            " ARIMA(0,1,3)(0,1,1)[12]             : AIC=1020.805, Time=0.74 sec\n",
            " ARIMA(0,1,3)(0,1,2)[12]             : AIC=1020.159, Time=1.82 sec\n",
            " ARIMA(0,1,3)(1,1,0)[12]             : AIC=1020.361, Time=0.26 sec\n",
            " ARIMA(0,1,3)(1,1,1)[12]             : AIC=1020.618, Time=0.70 sec\n",
            " ARIMA(0,1,3)(2,1,0)[12]             : AIC=1019.745, Time=0.50 sec\n",
            " ARIMA(0,1,4)(0,1,0)[12]             : AIC=1020.696, Time=0.16 sec\n",
            " ARIMA(0,1,4)(0,1,1)[12]             : AIC=1020.176, Time=0.51 sec\n",
            " ARIMA(0,1,4)(1,1,0)[12]             : AIC=1019.607, Time=0.36 sec\n",
            " ARIMA(0,1,5)(0,1,0)[12]             : AIC=1021.399, Time=0.21 sec\n",
            " ARIMA(1,1,0)(0,1,0)[12]             : AIC=1020.393, Time=0.06 sec\n",
            " ARIMA(1,1,0)(0,1,1)[12]             : AIC=1020.914, Time=0.21 sec\n",
            " ARIMA(1,1,0)(0,1,2)[12]             : AIC=1019.493, Time=0.63 sec\n",
            " ARIMA(1,1,0)(1,1,0)[12]             : AIC=1020.393, Time=0.13 sec\n",
            " ARIMA(1,1,0)(1,1,1)[12]             : AIC=1020.493, Time=0.45 sec\n",
            " ARIMA(1,1,0)(1,1,2)[12]             : AIC=1014.742, Time=1.70 sec\n",
            " ARIMA(1,1,0)(2,1,0)[12]             : AIC=1019.239, Time=0.36 sec\n",
            " ARIMA(1,1,0)(2,1,1)[12]             : AIC=inf, Time=3.05 sec\n",
            " ARIMA(1,1,0)(2,1,2)[12]             : AIC=inf, Time=4.67 sec\n",
            " ARIMA(1,1,1)(0,1,0)[12]             : AIC=1022.393, Time=0.09 sec\n",
            " ARIMA(1,1,1)(0,1,1)[12]             : AIC=1022.896, Time=0.33 sec\n",
            " ARIMA(1,1,1)(0,1,2)[12]             : AIC=1021.313, Time=1.02 sec\n",
            " ARIMA(1,1,1)(1,1,0)[12]             : AIC=1022.356, Time=0.19 sec\n",
            " ARIMA(1,1,1)(1,1,1)[12]             : AIC=1022.299, Time=0.74 sec\n",
            " ARIMA(1,1,1)(1,1,2)[12]             : AIC=1014.990, Time=2.48 sec\n",
            " ARIMA(1,1,1)(2,1,0)[12]             : AIC=1021.032, Time=0.64 sec\n",
            " ARIMA(1,1,1)(2,1,1)[12]             : AIC=inf, Time=3.24 sec\n",
            " ARIMA(1,1,2)(0,1,0)[12]             : AIC=1024.160, Time=0.14 sec\n",
            " ARIMA(1,1,2)(0,1,1)[12]             : AIC=1024.718, Time=0.77 sec\n",
            " ARIMA(1,1,2)(0,1,2)[12]             : AIC=1023.125, Time=2.66 sec\n",
            " ARIMA(1,1,2)(1,1,0)[12]             : AIC=1024.191, Time=0.35 sec\n",
            " ARIMA(1,1,2)(1,1,1)[12]             : AIC=1024.121, Time=0.89 sec\n",
            " ARIMA(1,1,2)(2,1,0)[12]             : AIC=1022.805, Time=0.79 sec\n",
            " ARIMA(1,1,3)(0,1,0)[12]             : AIC=1019.252, Time=0.51 sec\n",
            " ARIMA(1,1,3)(0,1,1)[12]             : AIC=1019.532, Time=0.97 sec\n",
            " ARIMA(1,1,3)(1,1,0)[12]             : AIC=1019.133, Time=0.79 sec\n",
            " ARIMA(1,1,4)(0,1,0)[12]             : AIC=inf, Time=0.86 sec\n",
            " ARIMA(2,1,0)(0,1,0)[12]             : AIC=1022.393, Time=0.08 sec\n",
            " ARIMA(2,1,0)(0,1,1)[12]             : AIC=1022.905, Time=0.25 sec\n",
            " ARIMA(2,1,0)(0,1,2)[12]             : AIC=1021.381, Time=0.71 sec\n",
            " ARIMA(2,1,0)(1,1,0)[12]             : AIC=1022.373, Time=0.23 sec\n",
            " ARIMA(2,1,0)(1,1,1)[12]             : AIC=1022.390, Time=0.65 sec\n",
            " ARIMA(2,1,0)(1,1,2)[12]             : AIC=1015.534, Time=2.12 sec\n",
            " ARIMA(2,1,0)(2,1,0)[12]             : AIC=1021.120, Time=0.51 sec\n",
            " ARIMA(2,1,0)(2,1,1)[12]             : AIC=inf, Time=4.70 sec\n",
            " ARIMA(2,1,1)(0,1,0)[12]             : AIC=1017.847, Time=0.32 sec\n",
            " ARIMA(2,1,1)(0,1,1)[12]             : AIC=1018.359, Time=0.69 sec\n",
            " ARIMA(2,1,1)(0,1,2)[12]             : AIC=1017.950, Time=1.74 sec\n",
            " ARIMA(2,1,1)(1,1,0)[12]             : AIC=1017.914, Time=0.72 sec\n",
            " ARIMA(2,1,1)(1,1,1)[12]             : AIC=1018.248, Time=1.41 sec\n",
            " ARIMA(2,1,1)(2,1,0)[12]             : AIC=1017.658, Time=1.76 sec\n",
            " ARIMA(2,1,2)(0,1,0)[12]             : AIC=1019.290, Time=0.29 sec\n",
            " ARIMA(2,1,2)(0,1,1)[12]             : AIC=1019.935, Time=0.84 sec\n",
            " ARIMA(2,1,2)(1,1,0)[12]             : AIC=1019.546, Time=0.87 sec\n",
            " ARIMA(2,1,3)(0,1,0)[12]             : AIC=1019.796, Time=1.24 sec\n",
            " ARIMA(3,1,0)(0,1,0)[12]             : AIC=1023.666, Time=0.23 sec\n",
            " ARIMA(3,1,0)(0,1,1)[12]             : AIC=1024.441, Time=0.62 sec\n",
            " ARIMA(3,1,0)(0,1,2)[12]             : AIC=1023.149, Time=1.34 sec\n",
            " ARIMA(3,1,0)(1,1,0)[12]             : AIC=1024.003, Time=0.25 sec\n",
            " ARIMA(3,1,0)(1,1,1)[12]             : AIC=1024.141, Time=0.91 sec\n",
            " ARIMA(3,1,0)(2,1,0)[12]             : AIC=1022.819, Time=0.48 sec\n",
            " ARIMA(3,1,1)(0,1,0)[12]             : AIC=1019.084, Time=0.30 sec\n",
            " ARIMA(3,1,1)(0,1,1)[12]             : AIC=1019.696, Time=0.86 sec\n",
            " ARIMA(3,1,1)(1,1,0)[12]             : AIC=1019.327, Time=0.69 sec\n",
            " ARIMA(3,1,2)(0,1,0)[12]             : AIC=1021.083, Time=0.53 sec\n",
            " ARIMA(4,1,0)(0,1,0)[12]             : AIC=1021.975, Time=0.12 sec\n",
            " ARIMA(4,1,0)(0,1,1)[12]             : AIC=1022.158, Time=0.33 sec\n",
            " ARIMA(4,1,0)(1,1,0)[12]             : AIC=1021.530, Time=0.32 sec\n",
            " ARIMA(4,1,1)(0,1,0)[12]             : AIC=1023.947, Time=0.26 sec\n",
            " ARIMA(5,1,0)(0,1,0)[12]             : AIC=1023.944, Time=0.15 sec\n",
            "\n",
            "Best model:  ARIMA(0,1,1)(1,1,2)[12]          \n",
            "Total fit time: 103.250 seconds\n"
          ]
        },
        {
          "output_type": "execute_result",
          "data": {
            "text/plain": [
              "' start_p , start_q start_d informando os valores inicias , parametro opcionais\\n    start P ordem da parte seasonal porque nossa serie tem um elemento seasonal\\n    max_p = 6\\n    m = 12 ->dados mensais\\n    seasonal = True -> pq nossa série temporal apresenta um efeito seasonal\\n    stepwise = False -> testa todas as combinacoes dos parametros\\n    AIC  -> é uma métrica que evalue o quanto o modelo é bom e o objetivo é encontrar\\n            o menor valor de AIC. '"
            ],
            "application/vnd.google.colaboratory.intrinsic+json": {
              "type": "string"
            }
          },
          "metadata": {},
          "execution_count": 31
        }
      ],
      "source": [
        "# Aplicando o autoarima para buscar os melhores parametros p,d e q\n",
        "# ordem da parte regressiva,  grau de diferenciacao e a ordem da média movil\n",
        "# ==============================================================================\n",
        "stepwise_model = auto_arima(base, start_p=1,start_q=1,start_d= 0, start_P=0, max_p=6, max_q=6, m=12, seasonal=True, trace=True, stepwise=False)\n",
        "\n",
        "''' start_p , start_q start_d informando os valores inicias , parametro opcionais\n",
        "    start P ordem da parte seasonal porque nossa serie tem um elemento seasonal\n",
        "    max_p = 6\n",
        "    m = 12 ->dados mensais\n",
        "    seasonal = True -> pq nossa série temporal apresenta um efeito seasonal\n",
        "    stepwise = False -> testa todas as combinacoes dos parametros\n",
        "    AIC  -> é uma métrica que evalue o quanto o modelo é bom e o objetivo é encontrar\n",
        "            o menor valor de AIC. '''"
      ]
    },
    {
      "cell_type": "code",
      "execution_count": 32,
      "metadata": {
        "colab": {
          "base_uri": "https://localhost:8080/"
        },
        "id": "DXMOhzhAuU55",
        "outputId": "c488679f-0bf8-466c-d0c7-239ee78fa0e5"
      },
      "outputs": [
        {
          "output_type": "stream",
          "name": "stdout",
          "text": [
            "1012.9907964895799\n"
          ]
        }
      ],
      "source": [
        "# Visualizando o melhor AIC para a combinação ARIMA(0,1,1)(1,1,2)[12]\n",
        "# ==============================================================================\n",
        "print(stepwise_model.aic())"
      ]
    },
    {
      "cell_type": "code",
      "execution_count": 33,
      "metadata": {
        "id": "MF7PO-Xau0zx"
      },
      "outputs": [],
      "source": [
        "# Separando  os dados em treino e teste\n",
        "# ==============================================================================\n",
        "train = base.loc['1949-01-01':'1959-12-01']\n",
        "test = base.loc['1960-01-01':]"
      ]
    },
    {
      "cell_type": "markdown",
      "source": [
        " ## Construindo nosso modelo preditivo"
      ],
      "metadata": {
        "id": "_bM74zMBEV8V"
      }
    },
    {
      "cell_type": "code",
      "execution_count": 34,
      "metadata": {
        "colab": {
          "base_uri": "https://localhost:8080/",
          "height": 75
        },
        "id": "PP0UGso6u-Cp",
        "outputId": "27c3dcfc-d004-49de-d9ef-e7df98b6e858"
      },
      "outputs": [
        {
          "output_type": "execute_result",
          "data": {
            "text/plain": [
              "ARIMA(order=(0, 1, 1), scoring_args={}, seasonal_order=(1, 1, 2, 12),\n",
              "      suppress_warnings=True, with_intercept=False)"
            ],
            "text/html": [
              "<style>#sk-container-id-1 {color: black;background-color: white;}#sk-container-id-1 pre{padding: 0;}#sk-container-id-1 div.sk-toggleable {background-color: white;}#sk-container-id-1 label.sk-toggleable__label {cursor: pointer;display: block;width: 100%;margin-bottom: 0;padding: 0.3em;box-sizing: border-box;text-align: center;}#sk-container-id-1 label.sk-toggleable__label-arrow:before {content: \"▸\";float: left;margin-right: 0.25em;color: #696969;}#sk-container-id-1 label.sk-toggleable__label-arrow:hover:before {color: black;}#sk-container-id-1 div.sk-estimator:hover label.sk-toggleable__label-arrow:before {color: black;}#sk-container-id-1 div.sk-toggleable__content {max-height: 0;max-width: 0;overflow: hidden;text-align: left;background-color: #f0f8ff;}#sk-container-id-1 div.sk-toggleable__content pre {margin: 0.2em;color: black;border-radius: 0.25em;background-color: #f0f8ff;}#sk-container-id-1 input.sk-toggleable__control:checked~div.sk-toggleable__content {max-height: 200px;max-width: 100%;overflow: auto;}#sk-container-id-1 input.sk-toggleable__control:checked~label.sk-toggleable__label-arrow:before {content: \"▾\";}#sk-container-id-1 div.sk-estimator input.sk-toggleable__control:checked~label.sk-toggleable__label {background-color: #d4ebff;}#sk-container-id-1 div.sk-label input.sk-toggleable__control:checked~label.sk-toggleable__label {background-color: #d4ebff;}#sk-container-id-1 input.sk-hidden--visually {border: 0;clip: rect(1px 1px 1px 1px);clip: rect(1px, 1px, 1px, 1px);height: 1px;margin: -1px;overflow: hidden;padding: 0;position: absolute;width: 1px;}#sk-container-id-1 div.sk-estimator {font-family: monospace;background-color: #f0f8ff;border: 1px dotted black;border-radius: 0.25em;box-sizing: border-box;margin-bottom: 0.5em;}#sk-container-id-1 div.sk-estimator:hover {background-color: #d4ebff;}#sk-container-id-1 div.sk-parallel-item::after {content: \"\";width: 100%;border-bottom: 1px solid gray;flex-grow: 1;}#sk-container-id-1 div.sk-label:hover label.sk-toggleable__label {background-color: #d4ebff;}#sk-container-id-1 div.sk-serial::before {content: \"\";position: absolute;border-left: 1px solid gray;box-sizing: border-box;top: 0;bottom: 0;left: 50%;z-index: 0;}#sk-container-id-1 div.sk-serial {display: flex;flex-direction: column;align-items: center;background-color: white;padding-right: 0.2em;padding-left: 0.2em;position: relative;}#sk-container-id-1 div.sk-item {position: relative;z-index: 1;}#sk-container-id-1 div.sk-parallel {display: flex;align-items: stretch;justify-content: center;background-color: white;position: relative;}#sk-container-id-1 div.sk-item::before, #sk-container-id-1 div.sk-parallel-item::before {content: \"\";position: absolute;border-left: 1px solid gray;box-sizing: border-box;top: 0;bottom: 0;left: 50%;z-index: -1;}#sk-container-id-1 div.sk-parallel-item {display: flex;flex-direction: column;z-index: 1;position: relative;background-color: white;}#sk-container-id-1 div.sk-parallel-item:first-child::after {align-self: flex-end;width: 50%;}#sk-container-id-1 div.sk-parallel-item:last-child::after {align-self: flex-start;width: 50%;}#sk-container-id-1 div.sk-parallel-item:only-child::after {width: 0;}#sk-container-id-1 div.sk-dashed-wrapped {border: 1px dashed gray;margin: 0 0.4em 0.5em 0.4em;box-sizing: border-box;padding-bottom: 0.4em;background-color: white;}#sk-container-id-1 div.sk-label label {font-family: monospace;font-weight: bold;display: inline-block;line-height: 1.2em;}#sk-container-id-1 div.sk-label-container {text-align: center;}#sk-container-id-1 div.sk-container {/* jupyter's `normalize.less` sets `[hidden] { display: none; }` but bootstrap.min.css set `[hidden] { display: none !important; }` so we also need the `!important` here to be able to override the default hidden behavior on the sphinx rendered scikit-learn.org. See: https://github.com/scikit-learn/scikit-learn/issues/21755 */display: inline-block !important;position: relative;}#sk-container-id-1 div.sk-text-repr-fallback {display: none;}</style><div id=\"sk-container-id-1\" class=\"sk-top-container\"><div class=\"sk-text-repr-fallback\"><pre> ARIMA(0,1,1)(1,1,2)[12]          </pre><b>In a Jupyter environment, please rerun this cell to show the HTML representation or trust the notebook. <br />On GitHub, the HTML representation is unable to render, please try loading this page with nbviewer.org.</b></div><div class=\"sk-container\" hidden><div class=\"sk-item\"><div class=\"sk-estimator sk-toggleable\"><input class=\"sk-toggleable__control sk-hidden--visually\" id=\"sk-estimator-id-1\" type=\"checkbox\" checked><label for=\"sk-estimator-id-1\" class=\"sk-toggleable__label sk-toggleable__label-arrow\">ARIMA</label><div class=\"sk-toggleable__content\"><pre> ARIMA(0,1,1)(1,1,2)[12]          </pre></div></div></div></div></div>"
            ]
          },
          "metadata": {},
          "execution_count": 34
        }
      ],
      "source": [
        "# Treinando o modelo\n",
        "# ==============================================================================\n",
        "stepwise_model.fit(train)"
      ]
    },
    {
      "cell_type": "code",
      "execution_count": 35,
      "metadata": {
        "id": "JBjixrPnvCe4",
        "colab": {
          "base_uri": "https://localhost:8080/"
        },
        "outputId": "5f55e971-5bb0-40d4-b795-db7775e333e8"
      },
      "outputs": [
        {
          "output_type": "execute_result",
          "data": {
            "text/plain": [
              "1960-01-01    420.248524\n",
              "1960-02-01    398.467270\n",
              "1960-03-01    461.924955\n",
              "1960-04-01    450.705407\n",
              "1960-05-01    474.027678\n",
              "1960-06-01    537.927076\n",
              "1960-07-01    612.254751\n",
              "1960-08-01    623.611980\n",
              "1960-09-01    520.187427\n",
              "1960-10-01    462.338878\n",
              "1960-11-01    412.953715\n",
              "1960-12-01    453.780372\n",
              "Freq: MS, dtype: float64"
            ]
          },
          "metadata": {},
          "execution_count": 35
        }
      ],
      "source": [
        "# Previsão\n",
        "# ==============================================================================\n",
        "future_forecast = stepwise_model.predict(n_periods=12)\n",
        "future_forecast"
      ]
    },
    {
      "cell_type": "code",
      "source": [
        "# Comparando os valores reais com as previsões\n",
        "# ==============================================================================\n",
        "future_forecast = pd.DataFrame(future_forecast, index=test.index, columns = ['#Passangers'])\n",
        "future_forecast"
      ],
      "metadata": {
        "colab": {
          "base_uri": "https://localhost:8080/",
          "height": 457
        },
        "id": "smPreglf66uO",
        "outputId": "1acc523b-efd4-4df5-c951-030ea35e7d3e"
      },
      "execution_count": 36,
      "outputs": [
        {
          "output_type": "execute_result",
          "data": {
            "text/plain": [
              "            #Passangers\n",
              "Month                  \n",
              "1960-01-01   420.248524\n",
              "1960-02-01   398.467270\n",
              "1960-03-01   461.924955\n",
              "1960-04-01   450.705407\n",
              "1960-05-01   474.027678\n",
              "1960-06-01   537.927076\n",
              "1960-07-01   612.254751\n",
              "1960-08-01   623.611980\n",
              "1960-09-01   520.187427\n",
              "1960-10-01   462.338878\n",
              "1960-11-01   412.953715\n",
              "1960-12-01   453.780372"
            ],
            "text/html": [
              "\n",
              "\n",
              "  <div id=\"df-3434b7f5-ffd8-4cc5-b45b-4977a3bab91e\">\n",
              "    <div class=\"colab-df-container\">\n",
              "      <div>\n",
              "<style scoped>\n",
              "    .dataframe tbody tr th:only-of-type {\n",
              "        vertical-align: middle;\n",
              "    }\n",
              "\n",
              "    .dataframe tbody tr th {\n",
              "        vertical-align: top;\n",
              "    }\n",
              "\n",
              "    .dataframe thead th {\n",
              "        text-align: right;\n",
              "    }\n",
              "</style>\n",
              "<table border=\"1\" class=\"dataframe\">\n",
              "  <thead>\n",
              "    <tr style=\"text-align: right;\">\n",
              "      <th></th>\n",
              "      <th>#Passangers</th>\n",
              "    </tr>\n",
              "    <tr>\n",
              "      <th>Month</th>\n",
              "      <th></th>\n",
              "    </tr>\n",
              "  </thead>\n",
              "  <tbody>\n",
              "    <tr>\n",
              "      <th>1960-01-01</th>\n",
              "      <td>420.248524</td>\n",
              "    </tr>\n",
              "    <tr>\n",
              "      <th>1960-02-01</th>\n",
              "      <td>398.467270</td>\n",
              "    </tr>\n",
              "    <tr>\n",
              "      <th>1960-03-01</th>\n",
              "      <td>461.924955</td>\n",
              "    </tr>\n",
              "    <tr>\n",
              "      <th>1960-04-01</th>\n",
              "      <td>450.705407</td>\n",
              "    </tr>\n",
              "    <tr>\n",
              "      <th>1960-05-01</th>\n",
              "      <td>474.027678</td>\n",
              "    </tr>\n",
              "    <tr>\n",
              "      <th>1960-06-01</th>\n",
              "      <td>537.927076</td>\n",
              "    </tr>\n",
              "    <tr>\n",
              "      <th>1960-07-01</th>\n",
              "      <td>612.254751</td>\n",
              "    </tr>\n",
              "    <tr>\n",
              "      <th>1960-08-01</th>\n",
              "      <td>623.611980</td>\n",
              "    </tr>\n",
              "    <tr>\n",
              "      <th>1960-09-01</th>\n",
              "      <td>520.187427</td>\n",
              "    </tr>\n",
              "    <tr>\n",
              "      <th>1960-10-01</th>\n",
              "      <td>462.338878</td>\n",
              "    </tr>\n",
              "    <tr>\n",
              "      <th>1960-11-01</th>\n",
              "      <td>412.953715</td>\n",
              "    </tr>\n",
              "    <tr>\n",
              "      <th>1960-12-01</th>\n",
              "      <td>453.780372</td>\n",
              "    </tr>\n",
              "  </tbody>\n",
              "</table>\n",
              "</div>\n",
              "      <button class=\"colab-df-convert\" onclick=\"convertToInteractive('df-3434b7f5-ffd8-4cc5-b45b-4977a3bab91e')\"\n",
              "              title=\"Convert this dataframe to an interactive table.\"\n",
              "              style=\"display:none;\">\n",
              "\n",
              "  <svg xmlns=\"http://www.w3.org/2000/svg\" height=\"24px\"viewBox=\"0 0 24 24\"\n",
              "       width=\"24px\">\n",
              "    <path d=\"M0 0h24v24H0V0z\" fill=\"none\"/>\n",
              "    <path d=\"M18.56 5.44l.94 2.06.94-2.06 2.06-.94-2.06-.94-.94-2.06-.94 2.06-2.06.94zm-11 1L8.5 8.5l.94-2.06 2.06-.94-2.06-.94L8.5 2.5l-.94 2.06-2.06.94zm10 10l.94 2.06.94-2.06 2.06-.94-2.06-.94-.94-2.06-.94 2.06-2.06.94z\"/><path d=\"M17.41 7.96l-1.37-1.37c-.4-.4-.92-.59-1.43-.59-.52 0-1.04.2-1.43.59L10.3 9.45l-7.72 7.72c-.78.78-.78 2.05 0 2.83L4 21.41c.39.39.9.59 1.41.59.51 0 1.02-.2 1.41-.59l7.78-7.78 2.81-2.81c.8-.78.8-2.07 0-2.86zM5.41 20L4 18.59l7.72-7.72 1.47 1.35L5.41 20z\"/>\n",
              "  </svg>\n",
              "      </button>\n",
              "\n",
              "\n",
              "\n",
              "    <div id=\"df-86a7c855-9c1d-47ca-9826-fbe241e9d6cd\">\n",
              "      <button class=\"colab-df-quickchart\" onclick=\"quickchart('df-86a7c855-9c1d-47ca-9826-fbe241e9d6cd')\"\n",
              "              title=\"Suggest charts.\"\n",
              "              style=\"display:none;\">\n",
              "\n",
              "<svg xmlns=\"http://www.w3.org/2000/svg\" height=\"24px\"viewBox=\"0 0 24 24\"\n",
              "     width=\"24px\">\n",
              "    <g>\n",
              "        <path d=\"M19 3H5c-1.1 0-2 .9-2 2v14c0 1.1.9 2 2 2h14c1.1 0 2-.9 2-2V5c0-1.1-.9-2-2-2zM9 17H7v-7h2v7zm4 0h-2V7h2v10zm4 0h-2v-4h2v4z\"/>\n",
              "    </g>\n",
              "</svg>\n",
              "      </button>\n",
              "    </div>\n",
              "\n",
              "<style>\n",
              "  .colab-df-quickchart {\n",
              "    background-color: #E8F0FE;\n",
              "    border: none;\n",
              "    border-radius: 50%;\n",
              "    cursor: pointer;\n",
              "    display: none;\n",
              "    fill: #1967D2;\n",
              "    height: 32px;\n",
              "    padding: 0 0 0 0;\n",
              "    width: 32px;\n",
              "  }\n",
              "\n",
              "  .colab-df-quickchart:hover {\n",
              "    background-color: #E2EBFA;\n",
              "    box-shadow: 0px 1px 2px rgba(60, 64, 67, 0.3), 0px 1px 3px 1px rgba(60, 64, 67, 0.15);\n",
              "    fill: #174EA6;\n",
              "  }\n",
              "\n",
              "  [theme=dark] .colab-df-quickchart {\n",
              "    background-color: #3B4455;\n",
              "    fill: #D2E3FC;\n",
              "  }\n",
              "\n",
              "  [theme=dark] .colab-df-quickchart:hover {\n",
              "    background-color: #434B5C;\n",
              "    box-shadow: 0px 1px 3px 1px rgba(0, 0, 0, 0.15);\n",
              "    filter: drop-shadow(0px 1px 2px rgba(0, 0, 0, 0.3));\n",
              "    fill: #FFFFFF;\n",
              "  }\n",
              "</style>\n",
              "\n",
              "    <script>\n",
              "      async function quickchart(key) {\n",
              "        const containerElement = document.querySelector('#' + key);\n",
              "        const charts = await google.colab.kernel.invokeFunction(\n",
              "            'suggestCharts', [key], {});\n",
              "      }\n",
              "    </script>\n",
              "\n",
              "      <script>\n",
              "\n",
              "function displayQuickchartButton(domScope) {\n",
              "  let quickchartButtonEl =\n",
              "    domScope.querySelector('#df-86a7c855-9c1d-47ca-9826-fbe241e9d6cd button.colab-df-quickchart');\n",
              "  quickchartButtonEl.style.display =\n",
              "    google.colab.kernel.accessAllowed ? 'block' : 'none';\n",
              "}\n",
              "\n",
              "        displayQuickchartButton(document);\n",
              "      </script>\n",
              "      <style>\n",
              "    .colab-df-container {\n",
              "      display:flex;\n",
              "      flex-wrap:wrap;\n",
              "      gap: 12px;\n",
              "    }\n",
              "\n",
              "    .colab-df-convert {\n",
              "      background-color: #E8F0FE;\n",
              "      border: none;\n",
              "      border-radius: 50%;\n",
              "      cursor: pointer;\n",
              "      display: none;\n",
              "      fill: #1967D2;\n",
              "      height: 32px;\n",
              "      padding: 0 0 0 0;\n",
              "      width: 32px;\n",
              "    }\n",
              "\n",
              "    .colab-df-convert:hover {\n",
              "      background-color: #E2EBFA;\n",
              "      box-shadow: 0px 1px 2px rgba(60, 64, 67, 0.3), 0px 1px 3px 1px rgba(60, 64, 67, 0.15);\n",
              "      fill: #174EA6;\n",
              "    }\n",
              "\n",
              "    [theme=dark] .colab-df-convert {\n",
              "      background-color: #3B4455;\n",
              "      fill: #D2E3FC;\n",
              "    }\n",
              "\n",
              "    [theme=dark] .colab-df-convert:hover {\n",
              "      background-color: #434B5C;\n",
              "      box-shadow: 0px 1px 3px 1px rgba(0, 0, 0, 0.15);\n",
              "      filter: drop-shadow(0px 1px 2px rgba(0, 0, 0, 0.3));\n",
              "      fill: #FFFFFF;\n",
              "    }\n",
              "  </style>\n",
              "\n",
              "      <script>\n",
              "        const buttonEl =\n",
              "          document.querySelector('#df-3434b7f5-ffd8-4cc5-b45b-4977a3bab91e button.colab-df-convert');\n",
              "        buttonEl.style.display =\n",
              "          google.colab.kernel.accessAllowed ? 'block' : 'none';\n",
              "\n",
              "        async function convertToInteractive(key) {\n",
              "          const element = document.querySelector('#df-3434b7f5-ffd8-4cc5-b45b-4977a3bab91e');\n",
              "          const dataTable =\n",
              "            await google.colab.kernel.invokeFunction('convertToInteractive',\n",
              "                                                     [key], {});\n",
              "          if (!dataTable) return;\n",
              "\n",
              "          const docLinkHtml = 'Like what you see? Visit the ' +\n",
              "            '<a target=\"_blank\" href=https://colab.research.google.com/notebooks/data_table.ipynb>data table notebook</a>'\n",
              "            + ' to learn more about interactive tables.';\n",
              "          element.innerHTML = '';\n",
              "          dataTable['output_type'] = 'display_data';\n",
              "          await google.colab.output.renderOutput(dataTable, element);\n",
              "          const docLink = document.createElement('div');\n",
              "          docLink.innerHTML = docLinkHtml;\n",
              "          element.appendChild(docLink);\n",
              "        }\n",
              "      </script>\n",
              "    </div>\n",
              "  </div>\n"
            ]
          },
          "metadata": {},
          "execution_count": 36
        }
      ]
    },
    {
      "cell_type": "code",
      "execution_count": 38,
      "metadata": {
        "colab": {
          "base_uri": "https://localhost:8080/",
          "height": 507
        },
        "id": "z4uy0AHBvsiZ",
        "outputId": "f5ba80ce-d00e-458a-c45a-4d5a0cbba87f"
      },
      "outputs": [
        {
          "output_type": "execute_result",
          "data": {
            "text/plain": [
              "Text(0.5, 1.0, 'Comparação do valor real e a previsão')"
            ]
          },
          "metadata": {},
          "execution_count": 38
        },
        {
          "output_type": "display_data",
          "data": {
            "text/plain": [
              "<Figure size 640x480 with 1 Axes>"
            ],
            "image/png": "[encoded data removed]"
          },
          "metadata": {}
        }
      ],
      "source": [
        "# Visualizando  as comparações\n",
        "# ==============================================================================\n",
        "pd.concat([test,future_forecast],axis=1).plot(linewidth=3, color =['black','red'])\n",
        "plt.xlabel('Meses')\n",
        "plt.title('Comparação do valor real e a previsão', weight= 'bold', size = 16 )"
      ]
    },
    {
      "cell_type": "code",
      "execution_count": 39,
      "metadata": {
        "colab": {
          "base_uri": "https://localhost:8080/",
          "height": 491
        },
        "id": "7sfoLGUgv6q5",
        "outputId": "94044868-b003-4528-842a-88fe864db1e8"
      },
      "outputs": [
        {
          "output_type": "execute_result",
          "data": {
            "text/plain": [
              "Text(0.5, 1.0, 'Previsão do Modelo')"
            ]
          },
          "metadata": {},
          "execution_count": 39
        },
        {
          "output_type": "display_data",
          "data": {
            "text/plain": [
              "<Figure size 640x480 with 1 Axes>"
            ],
            "image/png": "[encoded data removed]"
          },
          "metadata": {}
        }
      ],
      "source": [
        "# Gráfica completa\n",
        "# ==============================================================================\n",
        "pd.concat([base,future_forecast],axis=1).plot(linewidth =3, color= ['black','red'])\n",
        "plt.xlabel('Meses')\n",
        "plt.title('Previsão do Modelo', weight= 'bold', size = 16 )"
      ]
    },
    {
      "cell_type": "markdown",
      "source": [
        "# Reporte Final"
      ],
      "metadata": {
        "id": "HVmJQEFPJGIc"
      }
    },
    {
      "cell_type": "markdown",
      "source": [
        "\n",
        "* **O melhor modelo é alcançado com a combinação: ARIMA(0,1,1)(1,1,2)[12], com um AIC de 1012.99.**\n",
        "* **Usando essa combinação de AIC construimos nosso modelo preditivo.**\n",
        "* **Para a construção de nosso modelo separamos nossos dados em dois partes treino e teste.**\n",
        "     *  **Dados de treino com intervalo desde 1949 até 1959.**\n",
        "     *  **Dados de teste, só ano 1960, 12 meses.**\n",
        "* **O último gráfico é bom indicador de que nosso modelo está predizendo razoavelmente bem.**\n",
        "\n"
      ],
      "metadata": {
        "id": "yWdYhUwC8sxd"
      }
    },
    {
      "cell_type": "markdown",
      "source": [
        "# Referências"
      ],
      "metadata": {
        "id": "B5WHxMjtEVz0"
      }
    },
    {
      "cell_type": "markdown",
      "source": [
        "*   *Forecasting : Principles and Practice*, Rob J. Hyndman and George Athanasopoulos, Second edition, **(2018)**"
      ],
      "metadata": {
        "id": "P06KoV7HEcoi"
      }
    }
  ],
  "metadata": {
    "colab": {
      "provenance": []
    },
    "kernelspec": {
      "display_name": "Python 3",
      "name": "python3"
    },
    "language_info": {
      "name": "python"
    }
  },
  "nbformat": 4,
  "nbformat_minor": 0
}